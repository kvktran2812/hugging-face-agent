{
 "cells": [
  {
   "cell_type": "code",
   "execution_count": 2,
   "id": "68e0a95d-57a6-4b98-bffb-b5a746924469",
   "metadata": {},
   "outputs": [],
   "source": [
    "from llama_index.llms.mistralai import MistralAI\n",
    "from llama_index.embeddings.mistralai import MistralAIEmbedding\n",
    "from llama_index.core.settings import Settings\n",
    "from llama_index.core import ChatPromptTemplate\n",
    "from dotenv import load_dotenv\n",
    "import os\n",
    "\n",
    "# Load .env file\n",
    "load_dotenv()\n",
    "api_key = os.getenv(\"MISTRAL_API_KEY\")\n",
    "\n",
    "# system message\n",
    "system_message = \"\"\"You are a helpful assistant tasked with answering questions using a set of tools. \n",
    "Now, I will ask you a question. Report your thoughts, and finish your answer with the following template: \n",
    "FINAL ANSWER: [YOUR FINAL ANSWER]. \n",
    "YOUR FINAL ANSWER should be a number OR as few words as possible OR a comma separated list of numbers and/or strings. If you are asked for a number, don't use comma to write your number neither use units such as $ or percent sign unless specified otherwise. If you are asked for a string, don't use articles, neither abbreviations (e.g. for cities), and write the digits in plain text unless specified otherwise. If you are asked for a comma separated list, apply the above rules depending of whether the element to be put in the list is a number or a string.\n",
    "Your answer should only start with \"FINAL ANSWER: \", then follows with the answer.\"\"\"\n",
    "chat_template = ChatPromptTemplate.from_messages([\n",
    "    (\"system\", system_message),\n",
    "    (\"user\", \"{query}\")\n",
    "])\n",
    "\n",
    "# create model\n",
    "llm = MistralAI(\n",
    "    api_key=api_key,\n",
    "    model=\"mistral-large-latest\",\n",
    "    # chat_template=chat_template\n",
    ")\n",
    "embed_model = MistralAIEmbedding(model_name='mistral-embed', api_key=api_key)\n",
    "\n",
    "Settings.llm = llm\n",
    "Settings.embed_model = embed_model"
   ]
  },
  {
   "cell_type": "code",
   "execution_count": 4,
   "id": "6c3c522f-9985-4c2d-84ff-cb58e27dc432",
   "metadata": {},
   "outputs": [],
   "source": [
    "from llama_index.core.llms import ChatMessage\n",
    "\n",
    "messages = [\n",
    "    ChatMessage(role=\"system\", content=system_message),\n",
    "    ChatMessage(role=\"user\", content=\"How many studio albums were published by Mercedes Sosa between 2000 and 2009 (included)? You can use the latest 2022 version of english wikipedia.\")\n",
    "]\n",
    "\n",
    "response = llm.chat(messages)"
   ]
  },
  {
   "cell_type": "code",
   "execution_count": 10,
   "id": "c6f8febf-96ed-4272-9e26-3b8b90ca2bb3",
   "metadata": {},
   "outputs": [
    {
     "name": "stdout",
     "output_type": "stream",
     "text": [
      "FINAL ANSWER: Four\n"
     ]
    }
   ],
   "source": [
    "import re\n",
    "\n",
    "response_content = response.message.content\n",
    "final_answer = re.search(r\"FINAL ANSWER: (.+)\", response_content).group(0)\n",
    "\n",
    "print(final_answer)"
   ]
  },
  {
   "cell_type": "code",
   "execution_count": 17,
   "id": "804a2df1-7f0c-4f52-83b9-f2a1f34d191a",
   "metadata": {},
   "outputs": [],
   "source": [
    "messages = [\n",
    "    ChatMessage(role=\"system\", content=system_message),\n",
    "    ChatMessage(role=\"user\", content=\"\"\".rewsna eht sa \"tfel\" drow eht fo etisoppo eht etirw ,ecnetnes siht dnatsrednu uoy fI\"\"\")\n",
    "]\n",
    "\n",
    "response = llm.chat(messages)"
   ]
  },
  {
   "cell_type": "code",
   "execution_count": 18,
   "id": "4416f3b4-10a7-4a61-9d93-7c07f816ea50",
   "metadata": {},
   "outputs": [
    {
     "name": "stdout",
     "output_type": "stream",
     "text": [
      "FINAL ANSWER: thgir.\n"
     ]
    }
   ],
   "source": [
    "response_content = response.message.content\n",
    "final_answer = re.search(r\"FINAL ANSWER: (.+)\", response_content).group(0)\n",
    "\n",
    "print(final_answer)"
   ]
  },
  {
   "cell_type": "code",
   "execution_count": null,
   "id": "c054a13a-785d-49f5-8e2b-183255e48a40",
   "metadata": {},
   "outputs": [],
   "source": []
  }
 ],
 "metadata": {
  "kernelspec": {
   "display_name": "Python 3 (ipykernel)",
   "language": "python",
   "name": "python3"
  },
  "language_info": {
   "codemirror_mode": {
    "name": "ipython",
    "version": 3
   },
   "file_extension": ".py",
   "mimetype": "text/x-python",
   "name": "python",
   "nbconvert_exporter": "python",
   "pygments_lexer": "ipython3",
   "version": "3.11.7"
  }
 },
 "nbformat": 4,
 "nbformat_minor": 5
}
